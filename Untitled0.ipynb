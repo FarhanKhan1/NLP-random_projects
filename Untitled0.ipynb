{
  "nbformat": 4,
  "nbformat_minor": 0,
  "metadata": {
    "colab": {
      "provenance": [],
      "mount_file_id": "1WJhVYpTNlLmR2ZmMFx8QcWCO45NHtsgv",
      "authorship_tag": "ABX9TyNY8qyCN924t8SMpe8hoSCB",
      "include_colab_link": true
    },
    "kernelspec": {
      "name": "python3",
      "display_name": "Python 3"
    },
    "language_info": {
      "name": "python"
    },
    "accelerator": "GPU",
    "gpuClass": "standard"
  },
  "cells": [
    {
      "cell_type": "markdown",
      "metadata": {
        "id": "view-in-github",
        "colab_type": "text"
      },
      "source": [
        "<a href=\"https://colab.research.google.com/github/FarhanKhan1/NLP-random_projects/blob/main/Untitled0.ipynb\" target=\"_parent\"><img src=\"https://colab.research.google.com/assets/colab-badge.svg\" alt=\"Open In Colab\"/></a>"
      ]
    },
    {
      "cell_type": "code",
      "source": [
        "import pandas as pd\n",
        "train_data = pd.read_csv(\"/content/drive/MyDrive/Colab Notebooks/Fake news classification/fake-news/train.csv\")\n",
        "test_data = pd.read_csv(\"/content/drive/MyDrive/Colab Notebooks/Fake news classification/fake-news/test.csv\")"
      ],
      "metadata": {
        "id": "R0G0ghTITzOS"
      },
      "execution_count": 1,
      "outputs": []
    },
    {
      "cell_type": "code",
      "source": [
        "X = train_data.dropna()"
      ],
      "metadata": {
        "id": "s6SyueiJVhAY"
      },
      "execution_count": 3,
      "outputs": []
    },
    {
      "cell_type": "code",
      "source": [
        "train_data.shape"
      ],
      "metadata": {
        "colab": {
          "base_uri": "https://localhost:8080/"
        },
        "id": "mNrza3_iWCi9",
        "outputId": "8dc223cd-cd5b-44da-f805-3124f72174e0"
      },
      "execution_count": 4,
      "outputs": [
        {
          "output_type": "execute_result",
          "data": {
            "text/plain": [
              "(20800, 5)"
            ]
          },
          "metadata": {},
          "execution_count": 4
        }
      ]
    },
    {
      "cell_type": "code",
      "source": [
        "X.shape\n",
        "X.reset_index(inplace = True) # or X = X.reset_index()"
      ],
      "metadata": {
        "id": "h-YO_8gkWIvE"
      },
      "execution_count": 5,
      "outputs": []
    },
    {
      "cell_type": "code",
      "source": [
        "X.drop(\"label\", axis=1).shape"
      ],
      "metadata": {
        "colab": {
          "base_uri": "https://localhost:8080/"
        },
        "id": "0h4TLEvhWL5V",
        "outputId": "fd527521-e488-4005-f913-f2e658710ed3"
      },
      "execution_count": 6,
      "outputs": [
        {
          "output_type": "execute_result",
          "data": {
            "text/plain": [
              "(18285, 5)"
            ]
          },
          "metadata": {},
          "execution_count": 6
        }
      ]
    },
    {
      "cell_type": "code",
      "source": [
        "X.label.shape"
      ],
      "metadata": {
        "colab": {
          "base_uri": "https://localhost:8080/"
        },
        "id": "Gk8_3q3JWkd3",
        "outputId": "1f803e50-5f8e-49ac-be23-009135b28555"
      },
      "execution_count": 7,
      "outputs": [
        {
          "output_type": "execute_result",
          "data": {
            "text/plain": [
              "(18285,)"
            ]
          },
          "metadata": {},
          "execution_count": 7
        }
      ]
    },
    {
      "cell_type": "code",
      "source": [
        "#now let's make the segmantation\n",
        "y = X.label\n",
        "X = X.drop(\"label\", axis=1)"
      ],
      "metadata": {
        "id": "y7Ydi2ejWv0Z"
      },
      "execution_count": 8,
      "outputs": []
    },
    {
      "cell_type": "code",
      "source": [
        "y.head()"
      ],
      "metadata": {
        "colab": {
          "base_uri": "https://localhost:8080/"
        },
        "id": "XoRYVrxOW8t0",
        "outputId": "ebecf214-9ce6-4744-bdd7-ad49542384df"
      },
      "execution_count": 9,
      "outputs": [
        {
          "output_type": "execute_result",
          "data": {
            "text/plain": [
              "0    1\n",
              "1    0\n",
              "2    1\n",
              "3    1\n",
              "4    1\n",
              "Name: label, dtype: int64"
            ]
          },
          "metadata": {},
          "execution_count": 9
        }
      ]
    },
    {
      "cell_type": "code",
      "source": [
        "X.head()"
      ],
      "metadata": {
        "colab": {
          "base_uri": "https://localhost:8080/",
          "height": 206
        },
        "id": "zh8uG9DvXAnh",
        "outputId": "318cfad1-6bd6-4df2-e61c-4118a5dcc44f"
      },
      "execution_count": 10,
      "outputs": [
        {
          "output_type": "execute_result",
          "data": {
            "text/plain": [
              "   index  id                                              title  \\\n",
              "0      0   0  House Dem Aide: We Didn’t Even See Comey’s Let...   \n",
              "1      1   1  FLYNN: Hillary Clinton, Big Woman on Campus - ...   \n",
              "2      2   2                  Why the Truth Might Get You Fired   \n",
              "3      3   3  15 Civilians Killed In Single US Airstrike Hav...   \n",
              "4      4   4  Iranian woman jailed for fictional unpublished...   \n",
              "\n",
              "               author                                               text  \n",
              "0       Darrell Lucus  House Dem Aide: We Didn’t Even See Comey’s Let...  \n",
              "1     Daniel J. Flynn  Ever get the feeling your life circles the rou...  \n",
              "2  Consortiumnews.com  Why the Truth Might Get You Fired October 29, ...  \n",
              "3     Jessica Purkiss  Videos 15 Civilians Killed In Single US Airstr...  \n",
              "4      Howard Portnoy  Print \\nAn Iranian woman has been sentenced to...  "
            ],
            "text/html": [
              "\n",
              "  <div id=\"df-f7cc9b7b-2e57-45cc-a5ad-f2616518225f\">\n",
              "    <div class=\"colab-df-container\">\n",
              "      <div>\n",
              "<style scoped>\n",
              "    .dataframe tbody tr th:only-of-type {\n",
              "        vertical-align: middle;\n",
              "    }\n",
              "\n",
              "    .dataframe tbody tr th {\n",
              "        vertical-align: top;\n",
              "    }\n",
              "\n",
              "    .dataframe thead th {\n",
              "        text-align: right;\n",
              "    }\n",
              "</style>\n",
              "<table border=\"1\" class=\"dataframe\">\n",
              "  <thead>\n",
              "    <tr style=\"text-align: right;\">\n",
              "      <th></th>\n",
              "      <th>index</th>\n",
              "      <th>id</th>\n",
              "      <th>title</th>\n",
              "      <th>author</th>\n",
              "      <th>text</th>\n",
              "    </tr>\n",
              "  </thead>\n",
              "  <tbody>\n",
              "    <tr>\n",
              "      <th>0</th>\n",
              "      <td>0</td>\n",
              "      <td>0</td>\n",
              "      <td>House Dem Aide: We Didn’t Even See Comey’s Let...</td>\n",
              "      <td>Darrell Lucus</td>\n",
              "      <td>House Dem Aide: We Didn’t Even See Comey’s Let...</td>\n",
              "    </tr>\n",
              "    <tr>\n",
              "      <th>1</th>\n",
              "      <td>1</td>\n",
              "      <td>1</td>\n",
              "      <td>FLYNN: Hillary Clinton, Big Woman on Campus - ...</td>\n",
              "      <td>Daniel J. Flynn</td>\n",
              "      <td>Ever get the feeling your life circles the rou...</td>\n",
              "    </tr>\n",
              "    <tr>\n",
              "      <th>2</th>\n",
              "      <td>2</td>\n",
              "      <td>2</td>\n",
              "      <td>Why the Truth Might Get You Fired</td>\n",
              "      <td>Consortiumnews.com</td>\n",
              "      <td>Why the Truth Might Get You Fired October 29, ...</td>\n",
              "    </tr>\n",
              "    <tr>\n",
              "      <th>3</th>\n",
              "      <td>3</td>\n",
              "      <td>3</td>\n",
              "      <td>15 Civilians Killed In Single US Airstrike Hav...</td>\n",
              "      <td>Jessica Purkiss</td>\n",
              "      <td>Videos 15 Civilians Killed In Single US Airstr...</td>\n",
              "    </tr>\n",
              "    <tr>\n",
              "      <th>4</th>\n",
              "      <td>4</td>\n",
              "      <td>4</td>\n",
              "      <td>Iranian woman jailed for fictional unpublished...</td>\n",
              "      <td>Howard Portnoy</td>\n",
              "      <td>Print \\nAn Iranian woman has been sentenced to...</td>\n",
              "    </tr>\n",
              "  </tbody>\n",
              "</table>\n",
              "</div>\n",
              "      <button class=\"colab-df-convert\" onclick=\"convertToInteractive('df-f7cc9b7b-2e57-45cc-a5ad-f2616518225f')\"\n",
              "              title=\"Convert this dataframe to an interactive table.\"\n",
              "              style=\"display:none;\">\n",
              "        \n",
              "  <svg xmlns=\"http://www.w3.org/2000/svg\" height=\"24px\"viewBox=\"0 0 24 24\"\n",
              "       width=\"24px\">\n",
              "    <path d=\"M0 0h24v24H0V0z\" fill=\"none\"/>\n",
              "    <path d=\"M18.56 5.44l.94 2.06.94-2.06 2.06-.94-2.06-.94-.94-2.06-.94 2.06-2.06.94zm-11 1L8.5 8.5l.94-2.06 2.06-.94-2.06-.94L8.5 2.5l-.94 2.06-2.06.94zm10 10l.94 2.06.94-2.06 2.06-.94-2.06-.94-.94-2.06-.94 2.06-2.06.94z\"/><path d=\"M17.41 7.96l-1.37-1.37c-.4-.4-.92-.59-1.43-.59-.52 0-1.04.2-1.43.59L10.3 9.45l-7.72 7.72c-.78.78-.78 2.05 0 2.83L4 21.41c.39.39.9.59 1.41.59.51 0 1.02-.2 1.41-.59l7.78-7.78 2.81-2.81c.8-.78.8-2.07 0-2.86zM5.41 20L4 18.59l7.72-7.72 1.47 1.35L5.41 20z\"/>\n",
              "  </svg>\n",
              "      </button>\n",
              "      \n",
              "  <style>\n",
              "    .colab-df-container {\n",
              "      display:flex;\n",
              "      flex-wrap:wrap;\n",
              "      gap: 12px;\n",
              "    }\n",
              "\n",
              "    .colab-df-convert {\n",
              "      background-color: #E8F0FE;\n",
              "      border: none;\n",
              "      border-radius: 50%;\n",
              "      cursor: pointer;\n",
              "      display: none;\n",
              "      fill: #1967D2;\n",
              "      height: 32px;\n",
              "      padding: 0 0 0 0;\n",
              "      width: 32px;\n",
              "    }\n",
              "\n",
              "    .colab-df-convert:hover {\n",
              "      background-color: #E2EBFA;\n",
              "      box-shadow: 0px 1px 2px rgba(60, 64, 67, 0.3), 0px 1px 3px 1px rgba(60, 64, 67, 0.15);\n",
              "      fill: #174EA6;\n",
              "    }\n",
              "\n",
              "    [theme=dark] .colab-df-convert {\n",
              "      background-color: #3B4455;\n",
              "      fill: #D2E3FC;\n",
              "    }\n",
              "\n",
              "    [theme=dark] .colab-df-convert:hover {\n",
              "      background-color: #434B5C;\n",
              "      box-shadow: 0px 1px 3px 1px rgba(0, 0, 0, 0.15);\n",
              "      filter: drop-shadow(0px 1px 2px rgba(0, 0, 0, 0.3));\n",
              "      fill: #FFFFFF;\n",
              "    }\n",
              "  </style>\n",
              "\n",
              "      <script>\n",
              "        const buttonEl =\n",
              "          document.querySelector('#df-f7cc9b7b-2e57-45cc-a5ad-f2616518225f button.colab-df-convert');\n",
              "        buttonEl.style.display =\n",
              "          google.colab.kernel.accessAllowed ? 'block' : 'none';\n",
              "\n",
              "        async function convertToInteractive(key) {\n",
              "          const element = document.querySelector('#df-f7cc9b7b-2e57-45cc-a5ad-f2616518225f');\n",
              "          const dataTable =\n",
              "            await google.colab.kernel.invokeFunction('convertToInteractive',\n",
              "                                                     [key], {});\n",
              "          if (!dataTable) return;\n",
              "\n",
              "          const docLinkHtml = 'Like what you see? Visit the ' +\n",
              "            '<a target=\"_blank\" href=https://colab.research.google.com/notebooks/data_table.ipynb>data table notebook</a>'\n",
              "            + ' to learn more about interactive tables.';\n",
              "          element.innerHTML = '';\n",
              "          dataTable['output_type'] = 'display_data';\n",
              "          await google.colab.output.renderOutput(dataTable, element);\n",
              "          const docLink = document.createElement('div');\n",
              "          docLink.innerHTML = docLinkHtml;\n",
              "          element.appendChild(docLink);\n",
              "        }\n",
              "      </script>\n",
              "    </div>\n",
              "  </div>\n",
              "  "
            ]
          },
          "metadata": {},
          "execution_count": 10
        }
      ]
    },
    {
      "cell_type": "code",
      "source": [
        "import tensorflow as tf"
      ],
      "metadata": {
        "id": "TtaVBKMyXYN6"
      },
      "execution_count": 11,
      "outputs": []
    },
    {
      "cell_type": "code",
      "source": [
        "#now let's import some important liabraries to preprocess and create the structure of our model\n",
        "from tensorflow.keras.preprocessing.text import one_hot\n",
        "from tensorflow.keras.preprocessing.sequence import pad_sequences\n",
        "from tensorflow.keras.layers import Embedding\n",
        "from tensorflow.keras.models import Sequential\n",
        "from tensorflow.keras.layers import LSTM\n",
        "from tensorflow.keras.layers import Dense"
      ],
      "metadata": {
        "id": "3ULhIhrvY8av"
      },
      "execution_count": 13,
      "outputs": []
    },
    {
      "cell_type": "code",
      "source": [
        "X.text"
      ],
      "metadata": {
        "colab": {
          "base_uri": "https://localhost:8080/"
        },
        "id": "2M99tOGVaoxC",
        "outputId": "cfe78be3-502c-47f3-ec50-975beec5c2fd"
      },
      "execution_count": 14,
      "outputs": [
        {
          "output_type": "execute_result",
          "data": {
            "text/plain": [
              "0        House Dem Aide: We Didn’t Even See Comey’s Let...\n",
              "1        Ever get the feeling your life circles the rou...\n",
              "2        Why the Truth Might Get You Fired October 29, ...\n",
              "3        Videos 15 Civilians Killed In Single US Airstr...\n",
              "4        Print \\nAn Iranian woman has been sentenced to...\n",
              "                               ...                        \n",
              "18280    Rapper T. I. unloaded on black celebrities who...\n",
              "18281    When the Green Bay Packers lost to the Washing...\n",
              "18282    The Macy’s of today grew from the union of sev...\n",
              "18283    NATO, Russia To Hold Parallel Exercises In Bal...\n",
              "18284      David Swanson is an author, activist, journa...\n",
              "Name: text, Length: 18285, dtype: object"
            ]
          },
          "metadata": {},
          "execution_count": 14
        }
      ]
    },
    {
      "cell_type": "code",
      "source": [
        "import spacy\n",
        "nlp = spacy.load(\"en_core_web_sm\")"
      ],
      "metadata": {
        "colab": {
          "base_uri": "https://localhost:8080/"
        },
        "id": "u5Csu10sayP_",
        "outputId": "3f2bc2c8-e2dd-459d-c7e8-7fc4f2697d3f"
      },
      "execution_count": 15,
      "outputs": [
        {
          "output_type": "stream",
          "name": "stderr",
          "text": [
            "/usr/local/lib/python3.8/dist-packages/torch/cuda/__init__.py:497: UserWarning: Can't initialize NVML\n",
            "  warnings.warn(\"Can't initialize NVML\")\n"
          ]
        }
      ]
    },
    {
      "cell_type": "code",
      "source": [
        "lemmatization= X.text.apply(lambda text: \n",
        "                                          \" \".join(token.lemma_ for token in nlp(text) \n",
        "                                                   if not token.is_stop))"
      ],
      "metadata": {
        "id": "E_bVtvf6cC9A"
      },
      "execution_count": 16,
      "outputs": []
    },
    {
      "cell_type": "code",
      "source": [
        "len(lemmatization)"
      ],
      "metadata": {
        "colab": {
          "base_uri": "https://localhost:8080/"
        },
        "id": "VR-dT8ZEEy5F",
        "outputId": "20532a43-8654-4255-c1be-30f79557648d"
      },
      "execution_count": 17,
      "outputs": [
        {
          "output_type": "execute_result",
          "data": {
            "text/plain": [
              "18285"
            ]
          },
          "metadata": {},
          "execution_count": 17
        }
      ]
    },
    {
      "cell_type": "code",
      "source": [
        "type(lemmatization)"
      ],
      "metadata": {
        "colab": {
          "base_uri": "https://localhost:8080/"
        },
        "id": "4vtLDO6qE217",
        "outputId": "66fb9375-c642-4570-92d7-5f33be4124b8"
      },
      "execution_count": 18,
      "outputs": [
        {
          "output_type": "execute_result",
          "data": {
            "text/plain": [
              "pandas.core.series.Series"
            ]
          },
          "metadata": {},
          "execution_count": 18
        }
      ]
    },
    {
      "cell_type": "code",
      "source": [
        "import re\n",
        "lemmatization_clean = lemmatization.apply(lambda text: \n",
        "                                          \" \".join(token for token in text.split() \n",
        "                                                   if not re.findall(r'[^a-zA-Z0-9 ]', token)))"
      ],
      "metadata": {
        "id": "KlZ1UxanFEam"
      },
      "execution_count": 19,
      "outputs": []
    },
    {
      "cell_type": "code",
      "source": [
        "lemmatization_clean.to_excel(\"lematization_clean.xlsx\")"
      ],
      "metadata": {
        "id": "kzPvY8K3KiHW"
      },
      "execution_count": 22,
      "outputs": []
    },
    {
      "cell_type": "code",
      "source": [
        "onehot_repr=[one_hot(words,6000)for words in lemmatization_clean] \n",
        "len(onehot_repr)"
      ],
      "metadata": {
        "colab": {
          "base_uri": "https://localhost:8080/"
        },
        "id": "HCeAolflK6jZ",
        "outputId": "d755cf06-1897-4c37-b6bc-73a75b65cb16"
      },
      "execution_count": 23,
      "outputs": [
        {
          "output_type": "execute_result",
          "data": {
            "text/plain": [
              "18285"
            ]
          },
          "metadata": {},
          "execution_count": 23
        }
      ]
    },
    {
      "cell_type": "code",
      "source": [
        "print(len(onehot_repr[0]))"
      ],
      "metadata": {
        "colab": {
          "base_uri": "https://localhost:8080/"
        },
        "id": "PTubXj_4TZ8u",
        "outputId": "883b1f59-0ffa-4f34-a3af-8a19c0cb731d"
      },
      "execution_count": 24,
      "outputs": [
        {
          "output_type": "stream",
          "name": "stdout",
          "text": [
            "401\n"
          ]
        }
      ]
    },
    {
      "cell_type": "code",
      "source": [
        "print(len(lemmatization_clean[0]))"
      ],
      "metadata": {
        "colab": {
          "base_uri": "https://localhost:8080/"
        },
        "id": "JsWt3uftUSEn",
        "outputId": "41fdb5da-3716-4f80-fcd2-37af8fa2541e"
      },
      "execution_count": 25,
      "outputs": [
        {
          "output_type": "stream",
          "name": "stdout",
          "text": [
            "2888\n"
          ]
        }
      ]
    },
    {
      "cell_type": "code",
      "source": [
        "embedded_docs=pad_sequences(onehot_repr,padding='post',maxlen=700)\n",
        "print(embedded_docs[0])"
      ],
      "metadata": {
        "colab": {
          "base_uri": "https://localhost:8080/"
        },
        "id": "2EdESc0MU7w4",
        "outputId": "485f38d4-b141-4fc5-b931-c3d32802eb81"
      },
      "execution_count": 28,
      "outputs": [
        {
          "output_type": "stream",
          "name": "stdout",
          "text": [
            "[2563 4966 4174 4776 3065 1260 2459 4109 4293  476 2272 1211 2734  205\n",
            " 1260 2459 1785 5178 2349 2277 4137 3325 3793  496   75 4713 4518 2268\n",
            " 4038 4253  913 4704 3207 1587 5278 4609 3214   65 3515 4776 2910 2563\n",
            " 2147 4174 2931 4953 3263  630 3207 1587 2212 4776 3045 5347 3065  723\n",
            " 3214 2931 3798 2632 5331 5351 3798 5911  976 5385 2889 1444 5939 4776\n",
            " 2358 4109 2576 1444 1597 3263 4776 3949 2576 1597 2147 5715 5415 2563\n",
            " 5837 2331 3356 1444 3264 2223 3798 5505 1141 2093 1312 1977 2053   95\n",
            " 3065 4744 3356 1444 1597 1260 2459 5294 1018 5278 5258 4109 3214 5334\n",
            " 5767 3214 3385 2182 3798  859 5264 4490 4898 5303 1260 2459 2272 4105\n",
            " 2734 4727 3263 4898 4776 3408 4921 2223 3798 5899 5194 3263 4386 4907\n",
            " 5668  879 4056 1527 5510 5398 3245 2459 2277 2576 2372 2980 4821 4490\n",
            " 5331  604 3826 4765 1546 5629 2489 4765 4056 2459 5975 3214 4574 5161\n",
            " 4109 1809 5578 5669 2777 4284 1457 3730 2910 4130 2563 2147 4174 4827\n",
            " 3065 2459 1354 4174 4185 2959 3367 5385 3263 4776 3065  502 2358 4031\n",
            " 1737 2147  976 5858 2889 1444 1464 4776 3065 2576 3400 5398 2147  976\n",
            " 5858 5280 1464 1597 3356 5804    5 1444 1260 2459 4109 1397 1464 1735\n",
            " 5243 3214   65 4185 2459 4110 1444 1597 1266 3576 4313 5522  451 4490\n",
            " 2459  573 3325 1464 2147 2819 3263  422 2910 4174 2358 1737 1351 4092\n",
            "  790 4776 4508 3851 1870 3065 2459 5148 1523  502 2212 1420 1295 5076\n",
            " 5662 4336  654 4898 4336  654 4776 5859 1325 1776 3615  654 2459  480\n",
            "  411  362  621 1262 4293  156 2931 4953 5954 5620  117 2478 3949 5715\n",
            " 5415 3709 1090  451 3159   43 1322 2890 3263 4062 2583 2459 3707  504\n",
            " 5919 2576 5480 5521 3798 5733 2761  108 3317 3056 1523 4006 4566 5753\n",
            " 3701 2704 4469 4256 2576 2563 1645 1523 1609 2459  741 2984 3073 2215\n",
            " 2212 1567 5899  986  942 2563 2576 1389  630 3207 1587 5278 4293  476\n",
            " 4293 1211 5546 1782 2988 2626 1443 2814 3508  343  566 2212 5415 5649\n",
            " 5243 5510 2293 2212 5649 5243 3207 3953 4707 1098 5741  734 3966 1624\n",
            " 2770 4760 3728 2471 5579 3826 2346 3263 4092  790 1098 4966 1501 5078\n",
            " 1737 1116 4286   14 3178 4293 4029 4299 1116    0    0    0    0    0\n",
            "    0    0    0    0    0    0    0    0    0    0    0    0    0    0\n",
            "    0    0    0    0    0    0    0    0    0    0    0    0    0    0\n",
            "    0    0    0    0    0    0    0    0    0    0    0    0    0    0\n",
            "    0    0    0    0    0    0    0    0    0    0    0    0    0    0\n",
            "    0    0    0    0    0    0    0    0    0    0    0    0    0    0\n",
            "    0    0    0    0    0    0    0    0    0    0    0    0    0    0\n",
            "    0    0    0    0    0    0    0    0    0    0    0    0    0    0\n",
            "    0    0    0    0    0    0    0    0    0    0    0    0    0    0\n",
            "    0    0    0    0    0    0    0    0    0    0    0    0    0    0\n",
            "    0    0    0    0    0    0    0    0    0    0    0    0    0    0\n",
            "    0    0    0    0    0    0    0    0    0    0    0    0    0    0\n",
            "    0    0    0    0    0    0    0    0    0    0    0    0    0    0\n",
            "    0    0    0    0    0    0    0    0    0    0    0    0    0    0\n",
            "    0    0    0    0    0    0    0    0    0    0    0    0    0    0\n",
            "    0    0    0    0    0    0    0    0    0    0    0    0    0    0\n",
            "    0    0    0    0    0    0    0    0    0    0    0    0    0    0\n",
            "    0    0    0    0    0    0    0    0    0    0    0    0    0    0\n",
            "    0    0    0    0    0    0    0    0    0    0    0    0    0    0\n",
            "    0    0    0    0    0    0    0    0    0    0    0    0    0    0\n",
            "    0    0    0    0    0    0    0    0    0    0    0    0    0    0\n",
            "    0    0    0    0    0    0    0    0    0    0    0    0    0    0]\n"
          ]
        }
      ]
    },
    {
      "cell_type": "code",
      "source": [
        "embedded_docs=pad_sequences(onehot_repr,padding='post',maxlen=700)\n",
        "print(embedded_docs[0])"
      ],
      "metadata": {
        "colab": {
          "base_uri": "https://localhost:8080/"
        },
        "id": "RUerhvxVuqkg",
        "outputId": "01b9025e-410a-47cb-935e-bdbdb1cfb43a"
      },
      "execution_count": 29,
      "outputs": [
        {
          "output_type": "stream",
          "name": "stdout",
          "text": [
            "[2563 4966 4174 4776 3065 1260 2459 4109 4293  476 2272 1211 2734  205\n",
            " 1260 2459 1785 5178 2349 2277 4137 3325 3793  496   75 4713 4518 2268\n",
            " 4038 4253  913 4704 3207 1587 5278 4609 3214   65 3515 4776 2910 2563\n",
            " 2147 4174 2931 4953 3263  630 3207 1587 2212 4776 3045 5347 3065  723\n",
            " 3214 2931 3798 2632 5331 5351 3798 5911  976 5385 2889 1444 5939 4776\n",
            " 2358 4109 2576 1444 1597 3263 4776 3949 2576 1597 2147 5715 5415 2563\n",
            " 5837 2331 3356 1444 3264 2223 3798 5505 1141 2093 1312 1977 2053   95\n",
            " 3065 4744 3356 1444 1597 1260 2459 5294 1018 5278 5258 4109 3214 5334\n",
            " 5767 3214 3385 2182 3798  859 5264 4490 4898 5303 1260 2459 2272 4105\n",
            " 2734 4727 3263 4898 4776 3408 4921 2223 3798 5899 5194 3263 4386 4907\n",
            " 5668  879 4056 1527 5510 5398 3245 2459 2277 2576 2372 2980 4821 4490\n",
            " 5331  604 3826 4765 1546 5629 2489 4765 4056 2459 5975 3214 4574 5161\n",
            " 4109 1809 5578 5669 2777 4284 1457 3730 2910 4130 2563 2147 4174 4827\n",
            " 3065 2459 1354 4174 4185 2959 3367 5385 3263 4776 3065  502 2358 4031\n",
            " 1737 2147  976 5858 2889 1444 1464 4776 3065 2576 3400 5398 2147  976\n",
            " 5858 5280 1464 1597 3356 5804    5 1444 1260 2459 4109 1397 1464 1735\n",
            " 5243 3214   65 4185 2459 4110 1444 1597 1266 3576 4313 5522  451 4490\n",
            " 2459  573 3325 1464 2147 2819 3263  422 2910 4174 2358 1737 1351 4092\n",
            "  790 4776 4508 3851 1870 3065 2459 5148 1523  502 2212 1420 1295 5076\n",
            " 5662 4336  654 4898 4336  654 4776 5859 1325 1776 3615  654 2459  480\n",
            "  411  362  621 1262 4293  156 2931 4953 5954 5620  117 2478 3949 5715\n",
            " 5415 3709 1090  451 3159   43 1322 2890 3263 4062 2583 2459 3707  504\n",
            " 5919 2576 5480 5521 3798 5733 2761  108 3317 3056 1523 4006 4566 5753\n",
            " 3701 2704 4469 4256 2576 2563 1645 1523 1609 2459  741 2984 3073 2215\n",
            " 2212 1567 5899  986  942 2563 2576 1389  630 3207 1587 5278 4293  476\n",
            " 4293 1211 5546 1782 2988 2626 1443 2814 3508  343  566 2212 5415 5649\n",
            " 5243 5510 2293 2212 5649 5243 3207 3953 4707 1098 5741  734 3966 1624\n",
            " 2770 4760 3728 2471 5579 3826 2346 3263 4092  790 1098 4966 1501 5078\n",
            " 1737 1116 4286   14 3178 4293 4029 4299 1116    0    0    0    0    0\n",
            "    0    0    0    0    0    0    0    0    0    0    0    0    0    0\n",
            "    0    0    0    0    0    0    0    0    0    0    0    0    0    0\n",
            "    0    0    0    0    0    0    0    0    0    0    0    0    0    0\n",
            "    0    0    0    0    0    0    0    0    0    0    0    0    0    0\n",
            "    0    0    0    0    0    0    0    0    0    0    0    0    0    0\n",
            "    0    0    0    0    0    0    0    0    0    0    0    0    0    0\n",
            "    0    0    0    0    0    0    0    0    0    0    0    0    0    0\n",
            "    0    0    0    0    0    0    0    0    0    0    0    0    0    0\n",
            "    0    0    0    0    0    0    0    0    0    0    0    0    0    0\n",
            "    0    0    0    0    0    0    0    0    0    0    0    0    0    0\n",
            "    0    0    0    0    0    0    0    0    0    0    0    0    0    0\n",
            "    0    0    0    0    0    0    0    0    0    0    0    0    0    0\n",
            "    0    0    0    0    0    0    0    0    0    0    0    0    0    0\n",
            "    0    0    0    0    0    0    0    0    0    0    0    0    0    0\n",
            "    0    0    0    0    0    0    0    0    0    0    0    0    0    0\n",
            "    0    0    0    0    0    0    0    0    0    0    0    0    0    0\n",
            "    0    0    0    0    0    0    0    0    0    0    0    0    0    0\n",
            "    0    0    0    0    0    0    0    0    0    0    0    0    0    0\n",
            "    0    0    0    0    0    0    0    0    0    0    0    0    0    0\n",
            "    0    0    0    0    0    0    0    0    0    0    0    0    0    0\n",
            "    0    0    0    0    0    0    0    0    0    0    0    0    0    0]\n"
          ]
        }
      ]
    },
    {
      "cell_type": "code",
      "source": [
        "from tensorflow.keras.layers import Dropout\n",
        "embedding_vector_features=100\n",
        "model=Sequential()\n",
        "model.add(Embedding(10000,embedding_vector_features,input_length=700))\n",
        "model.add(Dropout(0.35))\n",
        "model.add(LSTM(50 , return_sequences=True))\n",
        "model.add(Dropout(0.35))\n",
        "model.add(LSTM(100, return_sequences = True))\n",
        "model.add(LSTM(50))\n",
        "model.add(Dense(1,activation='sigmoid'))\n",
        "model.compile(loss='binary_crossentropy',optimizer='adam',metrics=['accuracy'])\n",
        "print(model.summary())"
      ],
      "metadata": {
        "colab": {
          "base_uri": "https://localhost:8080/"
        },
        "id": "ZCRIryrTWAvH",
        "outputId": "a3f4ddd9-44fa-4c96-9bb1-a71c66668061"
      },
      "execution_count": 38,
      "outputs": [
        {
          "output_type": "stream",
          "name": "stdout",
          "text": [
            "Model: \"sequential_4\"\n",
            "_________________________________________________________________\n",
            " Layer (type)                Output Shape              Param #   \n",
            "=================================================================\n",
            " embedding_4 (Embedding)     (None, 700, 100)          1000000   \n",
            "                                                                 \n",
            " dropout_7 (Dropout)         (None, 700, 100)          0         \n",
            "                                                                 \n",
            " lstm_9 (LSTM)               (None, 700, 50)           30200     \n",
            "                                                                 \n",
            " dropout_8 (Dropout)         (None, 700, 50)           0         \n",
            "                                                                 \n",
            " lstm_10 (LSTM)              (None, 700, 100)          60400     \n",
            "                                                                 \n",
            " lstm_11 (LSTM)              (None, 50)                30200     \n",
            "                                                                 \n",
            " dense_3 (Dense)             (None, 1)                 51        \n",
            "                                                                 \n",
            "=================================================================\n",
            "Total params: 1,120,851\n",
            "Trainable params: 1,120,851\n",
            "Non-trainable params: 0\n",
            "_________________________________________________________________\n",
            "None\n"
          ]
        }
      ]
    },
    {
      "cell_type": "code",
      "source": [
        "import numpy as np\n",
        "X_final=np.array(embedded_docs)\n",
        "y_final=np.array(y)"
      ],
      "metadata": {
        "id": "aTK-w-PLXS7f"
      },
      "execution_count": 39,
      "outputs": []
    },
    {
      "cell_type": "code",
      "source": [
        "X_final.shape,y_final.shape"
      ],
      "metadata": {
        "colab": {
          "base_uri": "https://localhost:8080/"
        },
        "id": "uGLKQtslXuG4",
        "outputId": "ee268515-598d-44e1-ff55-356674bcd17f"
      },
      "execution_count": 40,
      "outputs": [
        {
          "output_type": "execute_result",
          "data": {
            "text/plain": [
              "((18285, 700), (18285,))"
            ]
          },
          "metadata": {},
          "execution_count": 40
        }
      ]
    },
    {
      "cell_type": "code",
      "source": [
        "from sklearn.model_selection import train_test_split\n",
        "X_train, X_test, y_train, y_test = train_test_split(X_final, y_final, test_size=0.33, random_state=42)"
      ],
      "metadata": {
        "id": "BE5zutepXx3P"
      },
      "execution_count": 41,
      "outputs": []
    },
    {
      "cell_type": "code",
      "source": [
        "model.fit(X_train,y_train,validation_data=(X_test,y_test),epochs=5,batch_size=128)"
      ],
      "metadata": {
        "colab": {
          "base_uri": "https://localhost:8080/"
        },
        "id": "hDS5V1RAX5bw",
        "outputId": "e335654a-5603-4883-c8e2-01eb34125c65"
      },
      "execution_count": null,
      "outputs": [
        {
          "output_type": "stream",
          "name": "stdout",
          "text": [
            "Epoch 1/5\n",
            "96/96 [==============================] - 474s 5s/step - loss: 0.6822 - accuracy: 0.5599 - val_loss: 0.6575 - val_accuracy: 0.6593\n",
            "Epoch 2/5\n",
            "96/96 [==============================] - 460s 5s/step - loss: 0.6195 - accuracy: 0.6583 - val_loss: 0.6057 - val_accuracy: 0.6696\n",
            "Epoch 3/5\n",
            "96/96 [==============================] - 459s 5s/step - loss: 0.6746 - accuracy: 0.6083 - val_loss: 0.6844 - val_accuracy: 0.5665\n",
            "Epoch 4/5\n",
            "96/96 [==============================] - 462s 5s/step - loss: 0.6847 - accuracy: 0.5667 - val_loss: 0.6845 - val_accuracy: 0.5665\n",
            "Epoch 5/5\n",
            "96/96 [==============================] - 467s 5s/step - loss: 0.6853 - accuracy: 0.5667 - val_loss: 0.6836 - val_accuracy: 0.5665\n"
          ]
        }
      ]
    }
  ]
}